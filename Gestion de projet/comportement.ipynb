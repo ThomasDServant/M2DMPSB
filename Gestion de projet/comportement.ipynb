{
 "cells": [
  {
   "cell_type": "code",
   "execution_count": 95,
   "metadata": {},
   "outputs": [],
   "source": [
    "import pandas as pd\n",
    "import numpy as np\n",
    "import csv"
   ]
  },
  {
   "cell_type": "code",
   "execution_count": 96,
   "metadata": {
    "scrolled": true
   },
   "outputs": [
    {
     "name": "stdout",
     "output_type": "stream",
     "text": [
      "(1683072, 13)\n"
     ]
    }
   ],
   "source": [
    "##table 1\n",
    "df=pd.read_csv('/Users/jingwensu/Downloads/consommation-quotidienne-brute-regionale (1).csv',sep=';') \n",
    "print(df.shape)"
   ]
  },
  {
   "cell_type": "code",
   "execution_count": 97,
   "metadata": {},
   "outputs": [
    {
     "name": "stdout",
     "output_type": "stream",
     "text": [
      "['Date - Heure', 'Date', 'Heure', 'Code INSEE région', 'Région', 'Consommation brute gaz (MW PCS 0°C) - GRTgaz', 'Statut - GRTgaz', 'Consommation brute gaz (MW PCS 0°C) - Teréga', 'Statut - Teréga', 'Consommation brute gaz totale (MW PCS 0°C)', 'Consommation brute électricité (MW) - RTE', 'Statut - RTE', 'Consommation brute totale (MW)']\n"
     ]
    }
   ],
   "source": [
    "print(list(df))"
   ]
  },
  {
   "cell_type": "code",
   "execution_count": 98,
   "metadata": {},
   "outputs": [],
   "source": [
    "df.columns = [\"DH\", \"date\", \"Heure\", \"code region\", \"region\", \"a\", \"b\", \"c\", \"d\", \"gaz\", \"elec\", \"e\", \"totale\"]"
   ]
  },
  {
   "cell_type": "code",
   "execution_count": 99,
   "metadata": {},
   "outputs": [],
   "source": [
    "df_new = df.iloc[:, [0,1,2,3,4,9,10,12]]"
   ]
  },
  {
   "cell_type": "code",
   "execution_count": 100,
   "metadata": {},
   "outputs": [],
   "source": [
    "df_jour=df_new.loc[df_new[\"Heure\"]==\"00:00\"]\n"
   ]
  },
  {
   "cell_type": "code",
   "execution_count": 101,
   "metadata": {},
   "outputs": [],
   "source": [
    "open_day='2020-01-01'\n",
    "df_2020=df_jour[df_jour['DH']>=open_day]\n"
   ]
  },
  {
   "cell_type": "code",
   "execution_count": 102,
   "metadata": {},
   "outputs": [],
   "source": [
    "total_2020=df_2020.dropna(subset=['totale'])\n",
    "total_2020f=total_2020.drop([\"DH\",\"Heure\"],axis = 1) \n",
    "total_2020f['date'] = pd.to_datetime(total_2020f['date'],format='%d/%m/%Y')\n",
    "total_2020f['date'] = pd.to_datetime(total_2020f['date'],format='%Y/%m/%d')\n",
    "total_2020f.sort_values(\"date\",inplace=True)"
   ]
  },
  {
   "cell_type": "code",
   "execution_count": 103,
   "metadata": {},
   "outputs": [],
   "source": [
    "total_2020f.to_csv(\"/Users/jingwensu/Downloads/total_region 2020.csv\",index=False)"
   ]
  },
  {
   "cell_type": "code",
   "execution_count": 127,
   "metadata": {},
   "outputs": [
    {
     "name": "stdout",
     "output_type": "stream",
     "text": [
      "<class '_csv.reader'>\n",
      "(1828, 5)\n",
      "<class 'pandas.core.series.Series'>\n"
     ]
    }
   ],
   "source": [
    "#table 2\n",
    "f = open(r'/Users/jingwensu/Downloads/elec_merge.csv','r',)\n",
    "reader = csv.reader(f)\n",
    "print(type(reader))\n",
    "\n",
    "df2 = pd.DataFrame(reader,dtype=str,)\n",
    "df2.columns = df2.iloc[0]\n",
    "print(df2.shape)\n",
    "print(type(df2[\"date\"]))"
   ]
  },
  {
   "cell_type": "code",
   "execution_count": 114,
   "metadata": {},
   "outputs": [
    {
     "name": "stdout",
     "output_type": "stream",
     "text": [
      "['date', 'entreprises', 'professionnels', 'residentiels', 'pme']\n"
     ]
    }
   ],
   "source": [
    "print(list(df2))"
   ]
  },
  {
   "cell_type": "code",
   "execution_count": 120,
   "metadata": {},
   "outputs": [
    {
     "name": "stderr",
     "output_type": "stream",
     "text": [
      "<ipython-input-120-8a9943422fae>:2: SettingWithCopyWarning: \n",
      "A value is trying to be set on a copy of a slice from a DataFrame\n",
      "\n",
      "See the caveats in the documentation: https://pandas.pydata.org/pandas-docs/stable/user_guide/indexing.html#returning-a-view-versus-a-copy\n",
      "  df2_2020.sort_values(\"date\",inplace=True)\n"
     ]
    }
   ],
   "source": [
    "df2_2020=df2[df2['date']>=open_day]\n",
    "df2_2020.sort_values(\"date\",inplace=True)"
   ]
  },
  {
   "cell_type": "code",
   "execution_count": 133,
   "metadata": {},
   "outputs": [],
   "source": [
    "df2_2020.to_csv(\"/Users/jingwensu/Downloads/total_france 2020.csv\",index=False)"
   ]
  },
  {
   "cell_type": "code",
   "execution_count": 138,
   "metadata": {},
   "outputs": [
    {
     "name": "stdout",
     "output_type": "stream",
     "text": [
      "<class '_csv.reader'>\n",
      "(3289, 6)\n"
     ]
    }
   ],
   "source": [
    "p = open(r'/Users/jingwensu/Downloads/total_region 2020.csv','r',)\n",
    "reader1 = csv.reader(p)\n",
    "print(type(reader1))\n",
    "\n",
    "df1 = pd.DataFrame(reader1,dtype=str,)\n",
    "df1.columns = df1.iloc[0]\n",
    "print(df1.shape)\n"
   ]
  },
  {
   "cell_type": "code",
   "execution_count": 140,
   "metadata": {},
   "outputs": [],
   "source": [
    "outfile = pd.merge(df1, df2_2020, how='outer', on=['date'])\n",
    "\n",
    "outfile.to_csv(r'/Users/jingwensu/Desktop/a.csv', index=False,)"
   ]
  },
  {
   "cell_type": "code",
   "execution_count": null,
   "metadata": {},
   "outputs": [],
   "source": []
  }
 ],
 "metadata": {
  "kernelspec": {
   "display_name": "Python 3",
   "language": "python",
   "name": "python3"
  },
  "language_info": {
   "codemirror_mode": {
    "name": "ipython",
    "version": 3
   },
   "file_extension": ".py",
   "mimetype": "text/x-python",
   "name": "python",
   "nbconvert_exporter": "python",
   "pygments_lexer": "ipython3",
   "version": "3.8.3"
  }
 },
 "nbformat": 4,
 "nbformat_minor": 4
}
